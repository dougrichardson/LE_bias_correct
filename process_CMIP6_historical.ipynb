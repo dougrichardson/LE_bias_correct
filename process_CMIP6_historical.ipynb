{
 "cells": [
  {
   "cell_type": "markdown",
   "id": "af7c1f0b-4e2c-40e3-91fd-3866629e03e0",
   "metadata": {},
   "source": [
    "# Process ACCESS-ESM1-5 to NEM region"
   ]
  },
  {
   "cell_type": "code",
   "execution_count": 3,
   "id": "ed364682-ca8c-41ea-9494-412496e7e54e",
   "metadata": {
    "tags": []
   },
   "outputs": [],
   "source": [
    "from dask.distributed import Client,LocalCluster\n",
    "from dask_jobqueue import PBSCluster"
   ]
  },
  {
   "cell_type": "code",
   "execution_count": 105,
   "id": "a3a40316-8778-4ae7-b236-cc17cbd10a8a",
   "metadata": {},
   "outputs": [
    {
     "name": "stderr",
     "output_type": "stream",
     "text": [
      "/g/data/w42/dr6273/apps/conda/envs/pangeo/lib/python3.10/site-packages/distributed/node.py:182: UserWarning: Port 8787 is already in use.\n",
      "Perhaps you already have a cluster running?\n",
      "Hosting the HTTP server on port 39981 instead\n",
      "  warnings.warn(\n"
     ]
    }
   ],
   "source": [
    "# One node on Gadi has 48 cores - try and use up a full node before going to multiple nodes (jobs)\n",
    "\n",
    "walltime = '00:30:00'\n",
    "cores = 24\n",
    "memory = str(4 * cores) + 'GB'\n",
    "\n",
    "cluster = PBSCluster(walltime=str(walltime), cores=cores, memory=str(memory), processes=cores,\n",
    "                     job_extra_directives=['-q normal',\n",
    "                                           '-P w42',\n",
    "                                           '-l ncpus='+str(cores),\n",
    "                                           '-l mem='+str(memory),\n",
    "                                           '-l storage=gdata/w42+gdata/rt52+gdata/fs38'],\n",
    "                     local_directory='$TMPDIR',\n",
    "                     job_directives_skip=[\"select\"])\n",
    "                     # python=os.environ[\"DASK_PYTHON\"])"
   ]
  },
  {
   "cell_type": "code",
   "execution_count": 106,
   "id": "e58944b3-05fe-4852-a639-7c03033e7f78",
   "metadata": {},
   "outputs": [],
   "source": [
    "cluster.scale(jobs=1)\n",
    "client = Client(cluster)"
   ]
  },
  {
   "cell_type": "code",
   "execution_count": 107,
   "id": "e83f2c8b-8be6-49d9-9c75-3133ca74ddb1",
   "metadata": {},
   "outputs": [
    {
     "data": {
      "text/html": [
       "<div>\n",
       "    <div style=\"width: 24px; height: 24px; background-color: #e1e1e1; border: 3px solid #9D9D9D; border-radius: 5px; position: absolute;\"> </div>\n",
       "    <div style=\"margin-left: 48px;\">\n",
       "        <h3 style=\"margin-bottom: 0px;\">Client</h3>\n",
       "        <p style=\"color: #9D9D9D; margin-bottom: 0px;\">Client-015df8d1-459e-11ee-807d-00000761fe80</p>\n",
       "        <table style=\"width: 100%; text-align: left;\">\n",
       "\n",
       "        <tr>\n",
       "        \n",
       "            <td style=\"text-align: left;\"><strong>Connection method:</strong> Cluster object</td>\n",
       "            <td style=\"text-align: left;\"><strong>Cluster type:</strong> dask_jobqueue.PBSCluster</td>\n",
       "        \n",
       "        </tr>\n",
       "\n",
       "        \n",
       "            <tr>\n",
       "                <td style=\"text-align: left;\">\n",
       "                    <strong>Dashboard: </strong> <a href=\"/proxy/39981/status\" target=\"_blank\">/proxy/39981/status</a>\n",
       "                </td>\n",
       "                <td style=\"text-align: left;\"></td>\n",
       "            </tr>\n",
       "        \n",
       "\n",
       "        </table>\n",
       "\n",
       "        \n",
       "            <button style=\"margin-bottom: 12px;\" data-commandlinker-command=\"dask:populate-and-launch-layout\" data-commandlinker-args='{\"url\": \"/proxy/39981/status\" }'>\n",
       "                Launch dashboard in JupyterLab\n",
       "            </button>\n",
       "        \n",
       "\n",
       "        \n",
       "            <details>\n",
       "            <summary style=\"margin-bottom: 20px;\"><h3 style=\"display: inline;\">Cluster Info</h3></summary>\n",
       "            <div class=\"jp-RenderedHTMLCommon jp-RenderedHTML jp-mod-trusted jp-OutputArea-output\">\n",
       "    <div style=\"width: 24px; height: 24px; background-color: #e1e1e1; border: 3px solid #9D9D9D; border-radius: 5px; position: absolute;\">\n",
       "    </div>\n",
       "    <div style=\"margin-left: 48px;\">\n",
       "        <h3 style=\"margin-bottom: 0px; margin-top: 0px;\">PBSCluster</h3>\n",
       "        <p style=\"color: #9D9D9D; margin-bottom: 0px;\">e03443cf</p>\n",
       "        <table style=\"width: 100%; text-align: left;\">\n",
       "            <tr>\n",
       "                <td style=\"text-align: left;\">\n",
       "                    <strong>Dashboard:</strong> <a href=\"/proxy/39981/status\" target=\"_blank\">/proxy/39981/status</a>\n",
       "                </td>\n",
       "                <td style=\"text-align: left;\">\n",
       "                    <strong>Workers:</strong> 0\n",
       "                </td>\n",
       "            </tr>\n",
       "            <tr>\n",
       "                <td style=\"text-align: left;\">\n",
       "                    <strong>Total threads:</strong> 0\n",
       "                </td>\n",
       "                <td style=\"text-align: left;\">\n",
       "                    <strong>Total memory:</strong> 0 B\n",
       "                </td>\n",
       "            </tr>\n",
       "            \n",
       "        </table>\n",
       "\n",
       "        <details>\n",
       "            <summary style=\"margin-bottom: 20px;\">\n",
       "                <h3 style=\"display: inline;\">Scheduler Info</h3>\n",
       "            </summary>\n",
       "\n",
       "            <div style=\"\">\n",
       "    <div>\n",
       "        <div style=\"width: 24px; height: 24px; background-color: #FFF7E5; border: 3px solid #FF6132; border-radius: 5px; position: absolute;\"> </div>\n",
       "        <div style=\"margin-left: 48px;\">\n",
       "            <h3 style=\"margin-bottom: 0px;\">Scheduler</h3>\n",
       "            <p style=\"color: #9D9D9D; margin-bottom: 0px;\">Scheduler-8888fde4-e517-4070-8380-e3b1738e09a6</p>\n",
       "            <table style=\"width: 100%; text-align: left;\">\n",
       "                <tr>\n",
       "                    <td style=\"text-align: left;\">\n",
       "                        <strong>Comm:</strong> tcp://10.6.121.4:40715\n",
       "                    </td>\n",
       "                    <td style=\"text-align: left;\">\n",
       "                        <strong>Workers:</strong> 0\n",
       "                    </td>\n",
       "                </tr>\n",
       "                <tr>\n",
       "                    <td style=\"text-align: left;\">\n",
       "                        <strong>Dashboard:</strong> <a href=\"/proxy/39981/status\" target=\"_blank\">/proxy/39981/status</a>\n",
       "                    </td>\n",
       "                    <td style=\"text-align: left;\">\n",
       "                        <strong>Total threads:</strong> 0\n",
       "                    </td>\n",
       "                </tr>\n",
       "                <tr>\n",
       "                    <td style=\"text-align: left;\">\n",
       "                        <strong>Started:</strong> Just now\n",
       "                    </td>\n",
       "                    <td style=\"text-align: left;\">\n",
       "                        <strong>Total memory:</strong> 0 B\n",
       "                    </td>\n",
       "                </tr>\n",
       "            </table>\n",
       "        </div>\n",
       "    </div>\n",
       "\n",
       "    <details style=\"margin-left: 48px;\">\n",
       "        <summary style=\"margin-bottom: 20px;\">\n",
       "            <h3 style=\"display: inline;\">Workers</h3>\n",
       "        </summary>\n",
       "\n",
       "        \n",
       "\n",
       "    </details>\n",
       "</div>\n",
       "\n",
       "        </details>\n",
       "    </div>\n",
       "</div>\n",
       "            </details>\n",
       "        \n",
       "\n",
       "    </div>\n",
       "</div>"
      ],
      "text/plain": [
       "<Client: 'tcp://10.6.121.4:40715' processes=0 threads=0, memory=0 B>"
      ]
     },
     "execution_count": 107,
     "metadata": {},
     "output_type": "execute_result"
    }
   ],
   "source": [
    "client#.restart()"
   ]
  },
  {
   "cell_type": "code",
   "execution_count": 7,
   "id": "ce8fa858-316d-4384-a2be-0138c766ef2f",
   "metadata": {},
   "outputs": [],
   "source": [
    "import xarray as xr\n",
    "import functools\n",
    "\n",
    "import os"
   ]
  },
  {
   "cell_type": "code",
   "execution_count": 9,
   "id": "b7491658-52f0-4043-9216-0986ce8a6358",
   "metadata": {},
   "outputs": [],
   "source": [
    "models = [\n",
    "    \"ACCESS-ESM1-5\"\n",
    "]"
   ]
  },
  {
   "cell_type": "code",
   "execution_count": 10,
   "id": "d2c84042-b5c4-4f3d-a64b-e0c577b06001",
   "metadata": {},
   "outputs": [],
   "source": [
    "def get_model_path(model):\n",
    "    \"\"\"\n",
    "    Return the path to the historical simulations\n",
    "    \"\"\"\n",
    "    if model == \"ACCESS-ESM1-5\":\n",
    "        return \"/g/data/fs38/publications/CMIP6/CMIP/CSIRO/ACCESS-ESM1-5/historical/\"\n",
    "    else:\n",
    "        raise ValueError(\"Incorrect model\")"
   ]
  },
  {
   "cell_type": "code",
   "execution_count": 33,
   "id": "fe5277e8-0b10-4f7b-8284-4eb2709823d9",
   "metadata": {},
   "outputs": [],
   "source": [
    "def get_model_grid(model):\n",
    "    \"\"\"\n",
    "    Return the string for the model grid\n",
    "    \"\"\"\n",
    "    if model == \"ACCESS-ESM1-5\":\n",
    "        return \"gn\"\n",
    "    else:\n",
    "        raise ValueError(\"Incorrect model\")"
   ]
  },
  {
   "cell_type": "code",
   "execution_count": 41,
   "id": "36753006-f379-43f8-b105-2c6e6b4564a6",
   "metadata": {},
   "outputs": [],
   "source": [
    "def sel_Aus(ds, lat_name=\"lat\", lon_name=\"lon\"):\n",
    "    \"\"\"\n",
    "    Select Australian region.\n",
    "    \"\"\"\n",
    "    return ds.sel({lon_name: slice(110, 155), lat_name: slice(-45, -10)})"
   ]
  },
  {
   "cell_type": "code",
   "execution_count": 45,
   "id": "83c009d8-0ac2-410c-98b3-9244e7c9c3ac",
   "metadata": {},
   "outputs": [],
   "source": [
    "def open_model_data(model, variable, time, preprocess):\n",
    "    \"\"\"\n",
    "    Concat historical runs from 1950 for all ensemble members.\n",
    "    \n",
    "    model: str, model name.\n",
    "    variable: str, variable name\n",
    "    time: str, name of time interval e.g. day\n",
    "    preprocess: function to pass to preprocess in open_mfdataset\n",
    "    \"\"\"\n",
    "    model_path = get_model_path(model)\n",
    "    model_grid = get_model_grid(model)\n",
    "    members = os.listdir(model_path)\n",
    "    \n",
    "    ds_list = []\n",
    "    for member in members:\n",
    "        filename = variable + \"_\" + time + \"_\" + model + \"_historical_\" + member + \"_\" + model_grid\n",
    "        path = model_path + member + \"/\" + time + \"/\" + variable + \"/\" + model_grid + \"/latest/\" + filename\n",
    "\n",
    "        # Open data and preprocess\n",
    "        ds = xr.open_mfdataset([\n",
    "            path + \"_19500101-19991231.nc\",\n",
    "            path + \"_20000101-20141231.nc\"\n",
    "        ],\n",
    "            join=\"exact\",\n",
    "            preprocess=preprocess,\n",
    "            engine=\"netcdf4\",\n",
    "            compat=\"override\",\n",
    "            coords=\"minimal\",\n",
    "        )\n",
    "        \n",
    "        # Assign member dimension\n",
    "        m = int(member.split(\"i\")[0][1:])\n",
    "        ds = ds.expand_dims({\"member\": [m]})\n",
    "        ds_list.append(ds)\n",
    "        \n",
    "    return xr.concat(ds_list, dim=\"member\").sortby(\"member\")"
   ]
  },
  {
   "cell_type": "code",
   "execution_count": 47,
   "id": "39bcb7a8-7ae0-4c4d-b9f7-8123d8cf03dd",
   "metadata": {},
   "outputs": [],
   "source": [
    "def chunk_member(ds, chunks):\n",
    "    \"\"\"\n",
    "    Re-chunk member dimension.\n",
    "    \"\"\"\n",
    "    return ds.chunk({\"member\": chunks})"
   ]
  },
  {
   "cell_type": "code",
   "execution_count": 48,
   "id": "14cc896b-3507-4c36-aa3c-eec953493a99",
   "metadata": {},
   "outputs": [],
   "source": [
    "def to_zarr(ds, model, variable, time, region):\n",
    "    \"\"\"\n",
    "    Write to zarr collection.\n",
    "    \"\"\"\n",
    "    filename = variable + \"_\" + time + \"_\" + model + \"_historical_1950-2014_\" + region + \".zarr\"\n",
    "    path = \"/g/data/w42/dr6273/work/data/CMIP6/\" + model + \"/historical/\" + time + \"/\" + variable + \"/\" + filename\n",
    "    ds.to_zarr(\n",
    "        path,\n",
    "        mode=\"w\",\n",
    "        consolidated=True\n",
    "    )"
   ]
  },
  {
   "cell_type": "code",
   "execution_count": 80,
   "id": "4d7b0293-c321-4b07-b68d-2d36ff911e36",
   "metadata": {},
   "outputs": [],
   "source": [
    "def open_chunk_write(model, variable, time, region, preprocess, member_chunks=5):\n",
    "    \"\"\"\n",
    "    Open model data, concat alomng member, chunk and write to zarr\n",
    "    \n",
    "    model: str, model name.\n",
    "    variable: str, variable name\n",
    "    time: str, name of time interval e.g. day\n",
    "    region: str, name of region for filename\n",
    "    preprocess: function to pass to preprocess in open_mfdataset\n",
    "    member_chunks: how many chunks for members before writing\n",
    "    \"\"\"\n",
    "    ds = open_model_data(model, variable, time, preprocess)\n",
    "    ds = chunk_member(ds, member_chunks)\n",
    "    to_zarr(ds, model, variable, time, region)"
   ]
  },
  {
   "cell_type": "code",
   "execution_count": 113,
   "id": "09de4b46-6d4a-419a-b077-7ce1f623bddd",
   "metadata": {},
   "outputs": [],
   "source": [
    "def preprocess(variable):\n",
    "    \"\"\"\n",
    "    Preprocess for open_mfdataset. Uses functools.partial to return a function \n",
    "    that only takes one argument.\n",
    "    \"\"\"\n",
    "    def _preprocess(d, v):\n",
    "        if v in [\"tas\", \"tasmax\", \"sfcWind\"]:\n",
    "            d = d.drop(\"height\")\n",
    "        d = d[v].to_dataset(name=v)\n",
    "        return sel_Aus(d)\n",
    "    \n",
    "    return functools.partial(_preprocess, v=variable)"
   ]
  },
  {
   "cell_type": "markdown",
   "id": "78783c2c-c311-478d-ac84-8b9ea19afbf2",
   "metadata": {},
   "source": [
    "### Temperature (2m)"
   ]
  },
  {
   "cell_type": "code",
   "execution_count": 75,
   "id": "98c81b4b-1bfc-4506-baa9-b7e58d938e56",
   "metadata": {},
   "outputs": [
    {
     "name": "stdout",
     "output_type": "stream",
     "text": [
      "CPU times: user 14.2 s, sys: 2.08 s, total: 16.3 s\n",
      "Wall time: 59.2 s\n"
     ]
    }
   ],
   "source": [
    "%%time\n",
    "open_chunk_write(\n",
    "    \"ACCESS-ESM1-5\",\n",
    "    \"tas\",\n",
    "    \"day\",\n",
    "    \"AUS\",\n",
    "    preprocess(\"tas\")\n",
    ")"
   ]
  },
  {
   "cell_type": "markdown",
   "id": "92f256c5-07de-478e-974c-91a95843c473",
   "metadata": {},
   "source": [
    "### Daily max temperature (2m)"
   ]
  },
  {
   "cell_type": "code",
   "execution_count": 90,
   "id": "12367fdc-d0f9-4e3f-9ba7-461f6368af23",
   "metadata": {
    "tags": []
   },
   "outputs": [
    {
     "name": "stdout",
     "output_type": "stream",
     "text": [
      "CPU times: user 1min 10s, sys: 16.9 s, total: 1min 27s\n",
      "Wall time: 6min 35s\n"
     ]
    }
   ],
   "source": [
    "%%time\n",
    "open_chunk_write(\n",
    "    \"ACCESS-ESM1-5\",\n",
    "    \"tasmax\",\n",
    "    \"day\",\n",
    "    \"AUS\",\n",
    "    preprocess(\"tasmax\")\n",
    ")"
   ]
  },
  {
   "cell_type": "markdown",
   "id": "24dbce6e-064c-476a-a2e0-57dcd1f1707a",
   "metadata": {},
   "source": [
    "### Shortwave radiation at surface"
   ]
  },
  {
   "cell_type": "code",
   "execution_count": 92,
   "id": "96cda872-44a7-4467-abcd-652325a11ca4",
   "metadata": {
    "tags": []
   },
   "outputs": [
    {
     "name": "stdout",
     "output_type": "stream",
     "text": [
      "CPU times: user 1min 11s, sys: 17.3 s, total: 1min 28s\n",
      "Wall time: 6min 43s\n"
     ]
    }
   ],
   "source": [
    "%%time\n",
    "open_chunk_write(\n",
    "    \"ACCESS-ESM1-5\",\n",
    "    \"rsds\",\n",
    "    \"day\",\n",
    "    \"AUS\",\n",
    "    preprocess(\"rsds\")\n",
    ")"
   ]
  },
  {
   "cell_type": "markdown",
   "id": "12cae56d-0bbf-4058-b025-25e3c6584830",
   "metadata": {},
   "source": [
    "### Precip"
   ]
  },
  {
   "cell_type": "code",
   "execution_count": 98,
   "id": "2d742700-d16a-41aa-882c-74e77f7634f0",
   "metadata": {},
   "outputs": [],
   "source": [
    "# %%time\n",
    "# open_chunk_write(\n",
    "#     \"ACCESS-ESM1-5\",\n",
    "#     \"pr\",\n",
    "#     \"day\",\n",
    "#     \"AUS\",\n",
    "#     preprocess(\"pr\")\n",
    "# )"
   ]
  },
  {
   "cell_type": "markdown",
   "id": "5e0fa114-60a8-4e4f-93ec-b3039b880342",
   "metadata": {},
   "source": [
    "### Surface wind speed (~10 m)"
   ]
  },
  {
   "cell_type": "code",
   "execution_count": 114,
   "id": "28f7c587-45ff-4597-b26b-7e2d7a967a1e",
   "metadata": {
    "tags": []
   },
   "outputs": [
    {
     "name": "stdout",
     "output_type": "stream",
     "text": [
      "CPU times: user 22.9 s, sys: 4.65 s, total: 27.6 s\n",
      "Wall time: 1min 38s\n"
     ]
    }
   ],
   "source": [
    "%%time\n",
    "open_chunk_write(\n",
    "    \"ACCESS-ESM1-5\",\n",
    "    \"sfcWind\",\n",
    "    \"day\",\n",
    "    \"AUS\",\n",
    "    preprocess(\"sfcWind\")\n",
    ")"
   ]
  },
  {
   "cell_type": "markdown",
   "id": "65ada111-26c1-4820-992b-6e2c587d9921",
   "metadata": {},
   "source": [
    "### 100 m wind"
   ]
  },
  {
   "attachments": {
    "2ac8e5c3-50e7-4efe-83c5-b16fbac1b4a6.png": {
     "image/png": "[encoded data removed]"
    }
   },
   "cell_type": "markdown",
   "id": "5b7d6470-4199-4739-a26a-b0eb5ee96b1f",
   "metadata": {},
   "source": [
    "Not available from model so use a power law. From van der Wiel at al (2019):https://www.sciencedirect.com/science/article/pii/S1364032119302862#sec3\n",
    "\n",
    "![image.png](attachment:2ac8e5c3-50e7-4efe-83c5-b16fbac1b4a6.png)"
   ]
  },
  {
   "cell_type": "code",
   "execution_count": 100,
   "id": "23eece18-73fa-4317-bd12-8cef870dfd4f",
   "metadata": {},
   "outputs": [],
   "source": [
    "def power_law(ds, new_height=100, ref_height=10, roughness=0.143):\n",
    "    \"\"\"\n",
    "    Scale wind speed to new height.\n",
    "    \"\"\"\n",
    "    return ds * (new_height / ref_height) ** roughness"
   ]
  },
  {
   "cell_type": "code",
   "execution_count": 118,
   "id": "ce0b0565-7679-4de0-921b-109184cadd7a",
   "metadata": {},
   "outputs": [],
   "source": [
    "def sfcWind_to_100m(model, region):\n",
    "    \"\"\"\n",
    "    Rescale sfcWind and write\n",
    "    \"\"\"\n",
    "    path = \"/g/data/w42/dr6273/work/data/CMIP6/\" + model + \"/historical/day/\"\n",
    "    \n",
    "    w10 = xr.open_zarr(\n",
    "        path + \"sfcWind/sfcWind_day_\" + model + \"_historical_1950-2014_\" + region + \".zarr/\",\n",
    "        consolidated=True\n",
    "    )[\"sfcWind\"]\n",
    "    w100 = power_law(w10)\n",
    "    w100 = w100.to_dataset(name=\"w100\")\n",
    "    w100.to_zarr(\n",
    "        path + \"w100/w100_day_\" + model + \"_historical_1950-2014_\" + region + \".zarr/\",\n",
    "        mode=\"w\",\n",
    "        consolidated=True\n",
    "    )"
   ]
  },
  {
   "cell_type": "code",
   "execution_count": 119,
   "id": "e8296e42-ebcc-473e-9530-91869283bbe9",
   "metadata": {},
   "outputs": [],
   "source": [
    "sfcWind_to_100m(\"ACCESS-ESM1-5\", \"AUS\")"
   ]
  },
  {
   "cell_type": "markdown",
   "id": "8906da9e-90b1-48f9-adf0-c64114dc3efb",
   "metadata": {},
   "source": [
    "# Close cluster"
   ]
  },
  {
   "cell_type": "code",
   "execution_count": 120,
   "id": "56dddc6e-ab68-412c-a455-71a3012cb1b5",
   "metadata": {},
   "outputs": [],
   "source": [
    "client.close()\n",
    "cluster.close()"
   ]
  },
  {
   "cell_type": "code",
   "execution_count": null,
   "id": "bc632803-1000-48b0-b63a-739a2344c76b",
   "metadata": {},
   "outputs": [],
   "source": []
  }
 ],
 "metadata": {
  "kernelspec": {
   "display_name": "Python (pangeo)",
   "language": "python",
   "name": "pangeo"
  },
  "language_info": {
   "codemirror_mode": {
    "name": "ipython",
    "version": 3
   },
   "file_extension": ".py",
   "mimetype": "text/x-python",
   "name": "python",
   "nbconvert_exporter": "python",
   "pygments_lexer": "ipython3",
   "version": "3.10.8"
  }
 },
 "nbformat": 4,
 "nbformat_minor": 5
}
