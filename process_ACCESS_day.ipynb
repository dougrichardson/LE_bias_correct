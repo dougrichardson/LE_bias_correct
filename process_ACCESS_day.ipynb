{
 "cells": [
  {
   "cell_type": "markdown",
   "id": "af7c1f0b-4e2c-40e3-91fd-3866629e03e0",
   "metadata": {},
   "source": [
    "# Process ACCESS-ESM1-5 to NEM region"
   ]
  },
  {
   "cell_type": "code",
   "execution_count": 1,
   "id": "ed364682-ca8c-41ea-9494-412496e7e54e",
   "metadata": {
    "tags": []
   },
   "outputs": [],
   "source": [
    "from dask.distributed import Client,LocalCluster\n",
    "from dask_jobqueue import PBSCluster"
   ]
  },
  {
   "cell_type": "code",
   "execution_count": 2,
   "id": "a3a40316-8778-4ae7-b236-cc17cbd10a8a",
   "metadata": {},
   "outputs": [
    {
     "name": "stderr",
     "output_type": "stream",
     "text": [
      "/g/data/w42/dr6273/apps/conda/envs/pangeo/lib/python3.10/site-packages/distributed/node.py:182: UserWarning: Port 8787 is already in use.\n",
      "Perhaps you already have a cluster running?\n",
      "Hosting the HTTP server on port 36987 instead\n",
      "  warnings.warn(\n"
     ]
    }
   ],
   "source": [
    "# One node on Gadi has 48 cores - try and use up a full node before going to multiple nodes (jobs)\n",
    "\n",
    "walltime = '00:30:00'\n",
    "cores = 24\n",
    "memory = str(4 * cores) + 'GB'\n",
    "\n",
    "cluster = PBSCluster(walltime=str(walltime), cores=cores, memory=str(memory), processes=cores,\n",
    "                     job_extra_directives=['-q normal',\n",
    "                                           '-P w42',\n",
    "                                           '-l ncpus='+str(cores),\n",
    "                                           '-l mem='+str(memory),\n",
    "                                           '-l storage=gdata/w42+gdata/rt52+gdata/fs38'],\n",
    "                     local_directory='$TMPDIR',\n",
    "                     job_directives_skip=[\"select\"])\n",
    "                     # python=os.environ[\"DASK_PYTHON\"])"
   ]
  },
  {
   "cell_type": "code",
   "execution_count": 3,
   "id": "e58944b3-05fe-4852-a639-7c03033e7f78",
   "metadata": {},
   "outputs": [],
   "source": [
    "cluster.scale(jobs=1)\n",
    "client = Client(cluster)"
   ]
  },
  {
   "cell_type": "code",
   "execution_count": 4,
   "id": "e83f2c8b-8be6-49d9-9c75-3133ca74ddb1",
   "metadata": {},
   "outputs": [
    {
     "data": {
      "text/html": [
       "<div>\n",
       "    <div style=\"width: 24px; height: 24px; background-color: #e1e1e1; border: 3px solid #9D9D9D; border-radius: 5px; position: absolute;\"> </div>\n",
       "    <div style=\"margin-left: 48px;\">\n",
       "        <h3 style=\"margin-bottom: 0px;\">Client</h3>\n",
       "        <p style=\"color: #9D9D9D; margin-bottom: 0px;\">Client-c5552c82-37ee-11ee-bf3d-00000762fe80</p>\n",
       "        <table style=\"width: 100%; text-align: left;\">\n",
       "\n",
       "        <tr>\n",
       "        \n",
       "            <td style=\"text-align: left;\"><strong>Connection method:</strong> Cluster object</td>\n",
       "            <td style=\"text-align: left;\"><strong>Cluster type:</strong> dask_jobqueue.PBSCluster</td>\n",
       "        \n",
       "        </tr>\n",
       "\n",
       "        \n",
       "            <tr>\n",
       "                <td style=\"text-align: left;\">\n",
       "                    <strong>Dashboard: </strong> <a href=\"/proxy/36987/status\" target=\"_blank\">/proxy/36987/status</a>\n",
       "                </td>\n",
       "                <td style=\"text-align: left;\"></td>\n",
       "            </tr>\n",
       "        \n",
       "\n",
       "        </table>\n",
       "\n",
       "        \n",
       "            <button style=\"margin-bottom: 12px;\" data-commandlinker-command=\"dask:populate-and-launch-layout\" data-commandlinker-args='{\"url\": \"/proxy/36987/status\" }'>\n",
       "                Launch dashboard in JupyterLab\n",
       "            </button>\n",
       "        \n",
       "\n",
       "        \n",
       "            <details>\n",
       "            <summary style=\"margin-bottom: 20px;\"><h3 style=\"display: inline;\">Cluster Info</h3></summary>\n",
       "            <div class=\"jp-RenderedHTMLCommon jp-RenderedHTML jp-mod-trusted jp-OutputArea-output\">\n",
       "    <div style=\"width: 24px; height: 24px; background-color: #e1e1e1; border: 3px solid #9D9D9D; border-radius: 5px; position: absolute;\">\n",
       "    </div>\n",
       "    <div style=\"margin-left: 48px;\">\n",
       "        <h3 style=\"margin-bottom: 0px; margin-top: 0px;\">PBSCluster</h3>\n",
       "        <p style=\"color: #9D9D9D; margin-bottom: 0px;\">4f845cc0</p>\n",
       "        <table style=\"width: 100%; text-align: left;\">\n",
       "            <tr>\n",
       "                <td style=\"text-align: left;\">\n",
       "                    <strong>Dashboard:</strong> <a href=\"/proxy/36987/status\" target=\"_blank\">/proxy/36987/status</a>\n",
       "                </td>\n",
       "                <td style=\"text-align: left;\">\n",
       "                    <strong>Workers:</strong> 0\n",
       "                </td>\n",
       "            </tr>\n",
       "            <tr>\n",
       "                <td style=\"text-align: left;\">\n",
       "                    <strong>Total threads:</strong> 0\n",
       "                </td>\n",
       "                <td style=\"text-align: left;\">\n",
       "                    <strong>Total memory:</strong> 0 B\n",
       "                </td>\n",
       "            </tr>\n",
       "            \n",
       "        </table>\n",
       "\n",
       "        <details>\n",
       "            <summary style=\"margin-bottom: 20px;\">\n",
       "                <h3 style=\"display: inline;\">Scheduler Info</h3>\n",
       "            </summary>\n",
       "\n",
       "            <div style=\"\">\n",
       "    <div>\n",
       "        <div style=\"width: 24px; height: 24px; background-color: #FFF7E5; border: 3px solid #FF6132; border-radius: 5px; position: absolute;\"> </div>\n",
       "        <div style=\"margin-left: 48px;\">\n",
       "            <h3 style=\"margin-bottom: 0px;\">Scheduler</h3>\n",
       "            <p style=\"color: #9D9D9D; margin-bottom: 0px;\">Scheduler-538b6a92-4db8-48fe-bb48-c49d16bf48c0</p>\n",
       "            <table style=\"width: 100%; text-align: left;\">\n",
       "                <tr>\n",
       "                    <td style=\"text-align: left;\">\n",
       "                        <strong>Comm:</strong> tcp://10.6.121.2:41381\n",
       "                    </td>\n",
       "                    <td style=\"text-align: left;\">\n",
       "                        <strong>Workers:</strong> 0\n",
       "                    </td>\n",
       "                </tr>\n",
       "                <tr>\n",
       "                    <td style=\"text-align: left;\">\n",
       "                        <strong>Dashboard:</strong> <a href=\"/proxy/36987/status\" target=\"_blank\">/proxy/36987/status</a>\n",
       "                    </td>\n",
       "                    <td style=\"text-align: left;\">\n",
       "                        <strong>Total threads:</strong> 0\n",
       "                    </td>\n",
       "                </tr>\n",
       "                <tr>\n",
       "                    <td style=\"text-align: left;\">\n",
       "                        <strong>Started:</strong> Just now\n",
       "                    </td>\n",
       "                    <td style=\"text-align: left;\">\n",
       "                        <strong>Total memory:</strong> 0 B\n",
       "                    </td>\n",
       "                </tr>\n",
       "            </table>\n",
       "        </div>\n",
       "    </div>\n",
       "\n",
       "    <details style=\"margin-left: 48px;\">\n",
       "        <summary style=\"margin-bottom: 20px;\">\n",
       "            <h3 style=\"display: inline;\">Workers</h3>\n",
       "        </summary>\n",
       "\n",
       "        \n",
       "\n",
       "    </details>\n",
       "</div>\n",
       "\n",
       "        </details>\n",
       "    </div>\n",
       "</div>\n",
       "            </details>\n",
       "        \n",
       "\n",
       "    </div>\n",
       "</div>"
      ],
      "text/plain": [
       "<Client: 'tcp://10.6.121.2:41381' processes=0 threads=0, memory=0 B>"
      ]
     },
     "execution_count": 4,
     "metadata": {},
     "output_type": "execute_result"
    }
   ],
   "source": [
    "client#.restart()"
   ]
  },
  {
   "cell_type": "code",
   "execution_count": 5,
   "id": "ce8fa858-316d-4384-a2be-0138c766ef2f",
   "metadata": {},
   "outputs": [],
   "source": [
    "import xarray as xr\n",
    "\n",
    "import os"
   ]
  },
  {
   "cell_type": "code",
   "execution_count": 6,
   "id": "4eae968a-7f68-40f6-bb8d-b199ce524924",
   "metadata": {},
   "outputs": [],
   "source": [
    "path_hist = \"/g/data/fs38/publications/CMIP6/CMIP/CSIRO/ACCESS-ESM1-5/historical\"\n",
    "path_proj = \"/g/data/fs38/publications/CMIP6/ScenarioMIP/CSIRO/ACCESS-ESM1-5/\""
   ]
  },
  {
   "cell_type": "code",
   "execution_count": 7,
   "id": "9222d726-84ff-4d75-b535-bc78acb95817",
   "metadata": {},
   "outputs": [],
   "source": [
    "def NEM_process(variable, time_str, preprocess):\n",
    "    \"\"\"\n",
    "    Concat historical runs from 1950, select NEM region.\n",
    "    \n",
    "    variable: str, variable name\n",
    "    time_str: str, name of time interval e.g. day\n",
    "    preprocess: function to pass to preprocess in open_mfdataset\n",
    "    \"\"\"\n",
    "    base_path = \"/g/data/fs38/publications/CMIP6/CMIP/CSIRO/ACCESS-ESM1-5/historical\"\n",
    "    members = os.listdir(base_path)\n",
    "    \n",
    "    ds_list = []\n",
    "    for member in members:\n",
    "        path = base_path + \"/\" + member + \"/\" + time_str + \"/\" + variable + \"/gn/latest/\" + variable + \"_\" + time_str + \"_ACCESS-ESM1-5_historical_\" + member\n",
    "\n",
    "        ds = xr.open_mfdataset([\n",
    "            path + \"_gn_19500101-19991231.nc\",\n",
    "            path + \"_gn_20000101-20141231.nc\"\n",
    "        ],\n",
    "            # parallel=True,\n",
    "            join=\"exact\",\n",
    "            preprocess=preprocess,\n",
    "            engine=\"netcdf4\",\n",
    "            compat=\"override\",\n",
    "            coords=\"minimal\",\n",
    "        )\n",
    "        m = int(member.split(\"i\")[0][1:])\n",
    "        ds = ds.expand_dims({\"member\": [m]})\n",
    "        ds_list.append(ds)\n",
    "    return xr.concat(ds_list, dim=\"member\").sortby(\"member\")"
   ]
  },
  {
   "cell_type": "markdown",
   "id": "78783c2c-c311-478d-ac84-8b9ea19afbf2",
   "metadata": {},
   "source": [
    "### Temperature (2m)"
   ]
  },
  {
   "cell_type": "code",
   "execution_count": 8,
   "id": "ad54b00b-9875-4993-a35d-93a34dba44b0",
   "metadata": {},
   "outputs": [],
   "source": [
    "def preprocess_tas(ds):\n",
    "    ds = ds[\"tas\"].to_dataset(name=\"tas\")\n",
    "    ds = ds.drop(\"height\")\n",
    "    return ds.sel(lon=slice(133, 155), lat=slice(-45, -10))"
   ]
  },
  {
   "cell_type": "code",
   "execution_count": 14,
   "id": "1c528342-04df-40dd-8029-bfc6d588d129",
   "metadata": {},
   "outputs": [],
   "source": [
    "tas = NEM_process(\"tas\", \"day\", preprocess_tas)"
   ]
  },
  {
   "cell_type": "code",
   "execution_count": 18,
   "id": "3fe2354d-ccb2-432f-8977-cb15edf08332",
   "metadata": {},
   "outputs": [],
   "source": [
    "tas = tas.chunk({\"member\": 5})"
   ]
  },
  {
   "cell_type": "code",
   "execution_count": 22,
   "id": "25b11c41-a4b5-4c2c-ba2a-c714d811c04c",
   "metadata": {
    "tags": []
   },
   "outputs": [
    {
     "data": {
      "text/plain": [
       "<xarray.backends.zarr.ZarrStore at 0x15234ba8d150>"
      ]
     },
     "execution_count": 22,
     "metadata": {},
     "output_type": "execute_result"
    }
   ],
   "source": [
    "tas.to_zarr(\n",
    "    \"/g/data/w42/dr6273/work/data/CMIP6/ACCESS-ESM1-5/historical/day/tas/tas_day_ACCESS-ESM1-5_historical_1950-2014_NEM.zarr\",\n",
    "    mode=\"w\",\n",
    "    consolidated=True\n",
    ")"
   ]
  },
  {
   "cell_type": "markdown",
   "id": "92f256c5-07de-478e-974c-91a95843c473",
   "metadata": {},
   "source": [
    "### Daily max temperature (2m)"
   ]
  },
  {
   "cell_type": "code",
   "execution_count": 39,
   "id": "ed54e254-5d11-4ce9-9d93-546735b74376",
   "metadata": {},
   "outputs": [],
   "source": [
    "def preprocess_tasmax(ds):\n",
    "    ds = ds[\"tasmax\"].to_dataset(name=\"tasmax\")\n",
    "    ds = ds.drop(\"height\")\n",
    "    return ds.sel(lon=slice(133, 155), lat=slice(-45, -10))"
   ]
  },
  {
   "cell_type": "code",
   "execution_count": 40,
   "id": "8fe52c63-9076-4a7d-b94c-b3694caa2199",
   "metadata": {},
   "outputs": [],
   "source": [
    "tasmax = NEM_process(\"tasmax\", \"day\", preprocess_tasmax)"
   ]
  },
  {
   "cell_type": "code",
   "execution_count": 41,
   "id": "887d528a-ec12-430a-9ec3-2ef79c691d82",
   "metadata": {},
   "outputs": [],
   "source": [
    "tasmax = tasmax.chunk({\"member\": 5})"
   ]
  },
  {
   "cell_type": "code",
   "execution_count": 42,
   "id": "aa2c2014-bb9e-4e5c-930a-f83375884432",
   "metadata": {
    "tags": []
   },
   "outputs": [
    {
     "data": {
      "text/plain": [
       "<xarray.backends.zarr.ZarrStore at 0x15234828d700>"
      ]
     },
     "execution_count": 42,
     "metadata": {},
     "output_type": "execute_result"
    }
   ],
   "source": [
    "tasmax.to_zarr(\n",
    "    \"/g/data/w42/dr6273/work/data/CMIP6/ACCESS-ESM1-5/historical/day/tasmax/tasmax_day_ACCESS-ESM1-5_historical_1950-2014_NEM.zarr\",\n",
    "    mode=\"w\",\n",
    "    consolidated=True\n",
    ")"
   ]
  },
  {
   "cell_type": "markdown",
   "id": "24dbce6e-064c-476a-a2e0-57dcd1f1707a",
   "metadata": {},
   "source": [
    "### Shortwave radiation at surface"
   ]
  },
  {
   "cell_type": "code",
   "execution_count": 32,
   "id": "e98b37d7-64f9-4a32-bbe1-872be69d232b",
   "metadata": {},
   "outputs": [],
   "source": [
    "def preprocess_rsds(ds):\n",
    "    ds = ds[\"rsds\"].to_dataset(name=\"rsds\")\n",
    "    return ds.sel(lon=slice(133, 155), lat=slice(-45, -10))"
   ]
  },
  {
   "cell_type": "code",
   "execution_count": 35,
   "id": "9143e8d3-0fd8-4dbe-828f-70db73075d03",
   "metadata": {},
   "outputs": [],
   "source": [
    "rsds = NEM_process(\"rsds\", \"day\", preprocess_rsds)"
   ]
  },
  {
   "cell_type": "code",
   "execution_count": 36,
   "id": "87aa8052-e3d4-46ae-8aae-3e5d38665763",
   "metadata": {},
   "outputs": [],
   "source": [
    "rsds = rsds.chunk({\"member\": 5})"
   ]
  },
  {
   "cell_type": "code",
   "execution_count": 38,
   "id": "53795694-3a8b-4b99-a8dc-b003efe2d9a8",
   "metadata": {
    "tags": []
   },
   "outputs": [
    {
     "data": {
      "text/plain": [
       "<xarray.backends.zarr.ZarrStore at 0x15233c39d930>"
      ]
     },
     "execution_count": 38,
     "metadata": {},
     "output_type": "execute_result"
    }
   ],
   "source": [
    "rsds.to_zarr(\n",
    "    \"/g/data/w42/dr6273/work/data/CMIP6/ACCESS-ESM1-5/historical/day/rsds/rsds_day_ACCESS-ESM1-5_historical_1950-2014_NEM.zarr\",\n",
    "    mode=\"w\",\n",
    "    consolidated=True\n",
    ")"
   ]
  },
  {
   "cell_type": "markdown",
   "id": "5e0fa114-60a8-4e4f-93ec-b3039b880342",
   "metadata": {},
   "source": [
    "### Surface wind speed (~10 m)"
   ]
  },
  {
   "cell_type": "code",
   "execution_count": 44,
   "id": "041c0779-89b8-4c91-b3d2-237a673afadc",
   "metadata": {},
   "outputs": [],
   "source": [
    "def preprocess_sfcWind(ds):\n",
    "    ds = ds[\"sfcWind\"].to_dataset(name=\"sfcWind\")\n",
    "    return ds.sel(lon=slice(133, 155), lat=slice(-45, -10))"
   ]
  },
  {
   "cell_type": "code",
   "execution_count": 45,
   "id": "c327a11c-5697-43f9-8d99-445345841d39",
   "metadata": {},
   "outputs": [],
   "source": [
    "sfcWind = NEM_process(\"sfcWind\", \"day\", preprocess_sfcWind)"
   ]
  },
  {
   "cell_type": "code",
   "execution_count": 36,
   "id": "d1a40ae0-5562-469e-bad9-3ffc254a6ac2",
   "metadata": {},
   "outputs": [],
   "source": [
    "sfcWind = rssfcWindds.chunk({\"member\": 5})"
   ]
  },
  {
   "cell_type": "code",
   "execution_count": 47,
   "id": "a117fb36-1c7d-4fe1-bd6b-026b23a6e5cd",
   "metadata": {
    "tags": []
   },
   "outputs": [
    {
     "data": {
      "text/plain": [
       "<xarray.backends.zarr.ZarrStore at 0x15233a731ee0>"
      ]
     },
     "execution_count": 47,
     "metadata": {},
     "output_type": "execute_result"
    }
   ],
   "source": [
    "sfcWind.to_zarr(\n",
    "    \"/g/data/w42/dr6273/work/data/CMIP6/ACCESS-ESM1-5/historical/day/sfcWind/sfcWind_day_ACCESS-ESM1-5_historical_1950-2014_NEM.zarr\",\n",
    "    mode=\"w\",\n",
    "    consolidated=True\n",
    ")"
   ]
  },
  {
   "cell_type": "markdown",
   "id": "12cae56d-0bbf-4058-b025-25e3c6584830",
   "metadata": {},
   "source": [
    "### Precip"
   ]
  },
  {
   "cell_type": "code",
   "execution_count": 11,
   "id": "250e8168-0f0b-4d24-88d4-0bda49663aae",
   "metadata": {},
   "outputs": [],
   "source": [
    "def preprocess_pr(ds):\n",
    "    ds = ds[\"pr\"].to_dataset(name=\"pr\")\n",
    "    return ds.sel(lon=slice(133, 155), lat=slice(-45, -10))"
   ]
  },
  {
   "cell_type": "code",
   "execution_count": 12,
   "id": "2d742700-d16a-41aa-882c-74e77f7634f0",
   "metadata": {},
   "outputs": [],
   "source": [
    "pr = NEM_process(\"pr\", \"day\", preprocess_pr)"
   ]
  },
  {
   "cell_type": "code",
   "execution_count": 14,
   "id": "22d5ea08-d763-4b37-afc3-76ec7c0400a5",
   "metadata": {},
   "outputs": [],
   "source": [
    "pr = pr.chunk({\"member\": 5})"
   ]
  },
  {
   "cell_type": "code",
   "execution_count": 15,
   "id": "bbe9be9d-0809-475e-bed9-21f770afaa01",
   "metadata": {
    "tags": []
   },
   "outputs": [
    {
     "data": {
      "text/plain": [
       "<xarray.backends.zarr.ZarrStore at 0x148b00f3b450>"
      ]
     },
     "execution_count": 15,
     "metadata": {},
     "output_type": "execute_result"
    }
   ],
   "source": [
    "pr.to_zarr(\n",
    "    \"/g/data/w42/dr6273/work/data/CMIP6/ACCESS-ESM1-5/historical/day/pr/pr_day_ACCESS-ESM1-5_historical_1950-2014_NEM.zarr\",\n",
    "    mode=\"w\",\n",
    "    consolidated=True\n",
    ")"
   ]
  },
  {
   "cell_type": "markdown",
   "id": "8906da9e-90b1-48f9-adf0-c64114dc3efb",
   "metadata": {},
   "source": [
    "# Close cluster"
   ]
  },
  {
   "cell_type": "code",
   "execution_count": 16,
   "id": "56dddc6e-ab68-412c-a455-71a3012cb1b5",
   "metadata": {},
   "outputs": [],
   "source": [
    "client.close()\n",
    "cluster.close()"
   ]
  },
  {
   "cell_type": "code",
   "execution_count": null,
   "id": "bc632803-1000-48b0-b63a-739a2344c76b",
   "metadata": {},
   "outputs": [],
   "source": []
  }
 ],
 "metadata": {
  "kernelspec": {
   "display_name": "Python (pangeo)",
   "language": "python",
   "name": "pangeo"
  },
  "language_info": {
   "codemirror_mode": {
    "name": "ipython",
    "version": 3
   },
   "file_extension": ".py",
   "mimetype": "text/x-python",
   "name": "python",
   "nbconvert_exporter": "python",
   "pygments_lexer": "ipython3",
   "version": "3.10.8"
  }
 },
 "nbformat": 4,
 "nbformat_minor": 5
}
